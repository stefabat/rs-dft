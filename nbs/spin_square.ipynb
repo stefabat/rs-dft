{
 "cells": [
  {
   "cell_type": "code",
   "execution_count": 14,
   "metadata": {},
   "outputs": [],
   "source": [
    "from pyscf import ao2mo, gto, scf, fci, tools\n",
    "import numpy as np\n",
    "from functools import reduce\n",
    "np.set_printoptions(precision=3, linewidth=120, suppress=True)"
   ]
  },
  {
   "cell_type": "code",
   "execution_count": 3,
   "metadata": {},
   "outputs": [
    {
     "name": "stdout",
     "output_type": "stream",
     "text": [
      "System: uname_result(system='Linux', node='pauli', release='6.6.1-arch1-1', version='#1 SMP PREEMPT_DYNAMIC Wed, 08 Nov 2023 16:05:38 +0000', machine='x86_64')  Threads 16\n",
      "Python 3.10.10 (main, Mar 21 2023, 18:45:11) [GCC 11.2.0]\n",
      "numpy 1.23.4  scipy 1.9.3\n",
      "Date: Fri Nov 10 17:28:46 2023\n",
      "PySCF version 2.1.1\n",
      "PySCF path  /home/stefano/Miniconda/envs/qiskit/lib/python3.10/site-packages/pyscf\n",
      "\n",
      "[CONFIG] conf_file None\n",
      "[INPUT] verbose = 4\n",
      "[INPUT] num. atoms = 2\n",
      "[INPUT] num. electrons = 8\n",
      "[INPUT] charge = 0\n",
      "[INPUT] spin (= nelec alpha-beta = 2S) = 2\n",
      "[INPUT] symmetry False subgroup None\n",
      "[INPUT] Mole.unit = angstrom\n",
      "[INPUT] Symbol           X                Y                Z      unit          X                Y                Z       unit  Magmom\n",
      "[INPUT]  1 Be     0.000000000000   0.000000000000   0.662420000000 AA    0.000000000000   0.000000000000   1.251792379434 Bohr   0.0\n",
      "[INPUT]  2 Be     0.000000000000   0.000000000000  -0.662420000000 AA    0.000000000000   0.000000000000  -1.251792379434 Bohr   0.0\n",
      "\n",
      "nuclear repulsion = 6.3908361573624\n",
      "number of shells = 6\n",
      "number of NR pGTOs = 30\n",
      "number of NR cGTOs = 10\n",
      "basis = sto-3g\n",
      "ecp = {}\n",
      "CPU time:         0.80\n",
      "\n",
      "\n",
      "******** <class 'pyscf.scf.uhf.UHF'> ********\n",
      "method = UHF\n",
      "initial guess = minao\n",
      "damping factor = 0\n",
      "level_shift factor = 0\n",
      "DIIS = <class 'pyscf.scf.diis.CDIIS'>\n",
      "diis_start_cycle = 1\n",
      "diis_space = 8\n",
      "SCF conv_tol = 1e-09\n",
      "SCF conv_tol_grad = None\n",
      "SCF max_cycles = 50\n",
      "direct_scf = True\n",
      "direct_scf_tol = 1e-13\n",
      "chkfile to save SCF result = /home/stefano/Projects/embedding/periodic-embedding-data/test/tmpsr8c9x92\n",
      "max_memory 4000 MB (current use 150 MB)\n",
      "number electrons alpha = 5  beta = 3\n",
      "Set gradient conv threshold to 3.16228e-05\n",
      "init E= -29.236868744872\n",
      "\n",
      "WARN: alpha nocc = 5  HOMO 0.017636482823358 >= LUMO 0.0176364828233586\n",
      "\n",
      "  beta  nocc = 3  HOMO = -0.587344334622149  LUMO = -0.0323059292961093\n",
      "\n",
      "WARN: system HOMO 0.017636482823358 >= system LUMO -0.0323059292961093\n",
      "\n",
      "cycle= 1 E= -28.5184744379032  delta_E= 0.718  |g|= 0.0688  |ddm|= 1.58\n",
      "  alpha nocc = 5  HOMO = -0.211775924754926  LUMO = 0.0449791031721361\n",
      "  beta  nocc = 3  HOMO = -0.329180182238517  LUMO = 0.0880770874024625\n",
      "cycle= 2 E= -28.5307388372184  delta_E= -0.0123  |g|= 0.0392  |ddm|= 0.201\n",
      "  alpha nocc = 5  HOMO = -0.208102259919479  LUMO = 0.0674006863197142\n",
      "  beta  nocc = 3  HOMO = -0.341344917355356  LUMO = 0.10671832735629\n",
      "cycle= 3 E= -28.5365862543362  delta_E= -0.00585  |g|= 0.0159  |ddm|= 0.194\n",
      "  alpha nocc = 5  HOMO = -0.216720680860167  LUMO = 0.0659974732323264\n",
      "  beta  nocc = 3  HOMO = -0.346154509850716  LUMO = 0.105551710305515\n",
      "cycle= 4 E= -28.5380068354718  delta_E= -0.00142  |g|= 0.00456  |ddm|= 0.103\n",
      "  alpha nocc = 5  HOMO = -0.220795314820931  LUMO = 0.0649958999600108\n",
      "  beta  nocc = 3  HOMO = -0.35338462320973  LUMO = 0.103191947338152\n",
      "cycle= 5 E= -28.5380857295324  delta_E= -7.89e-05  |g|= 0.00049  |ddm|= 0.0253\n",
      "  alpha nocc = 5  HOMO = -0.221020346148227  LUMO = 0.0652036366165609\n",
      "  beta  nocc = 3  HOMO = -0.354532841579273  LUMO = 0.103130450681614\n",
      "cycle= 6 E= -28.5380862336432  delta_E= -5.04e-07  |g|= 7.46e-05  |ddm|= 0.00419\n",
      "  alpha nocc = 5  HOMO = -0.221020465815832  LUMO = 0.0651893651204856\n",
      "  beta  nocc = 3  HOMO = -0.354519888590793  LUMO = 0.103110571041751\n",
      "cycle= 7 E= -28.5380862390068  delta_E= -5.36e-09  |g|= 7.64e-06  |ddm|= 0.000644\n",
      "  alpha nocc = 5  HOMO = -0.221018841150805  LUMO = 0.0651883082535748\n",
      "  beta  nocc = 3  HOMO = -0.354512757063662  LUMO = 0.103111563245478\n",
      "cycle= 8 E= -28.5380862390764  delta_E= -6.96e-11  |g|= 5.43e-07  |ddm|= 6.87e-05\n",
      "  alpha nocc = 5  HOMO = -0.221018896438204  LUMO = 0.0651886146125757\n",
      "  beta  nocc = 3  HOMO = -0.354513591330956  LUMO = 0.103111464769406\n",
      "Extra cycle  E= -28.5380862390769  delta_E= -4.83e-13  |g|= 1.93e-07  |ddm|= 3.07e-06\n",
      "converged SCF energy = -28.5380862390769  <S^2> = 2.12861  2S+1 = 3.0845486\n"
     ]
    },
    {
     "data": {
      "text/plain": [
       "-28.53808623907689"
      ]
     },
     "execution_count": 3,
     "metadata": {},
     "output_type": "execute_result"
    }
   ],
   "source": [
    "mol = gto.M(\n",
    "    atom = 'Be  0.0      0.0      0.66242; \\\n",
    "            Be  0.0      0.0     -0.66242;',\n",
    "    basis=\"sto-3g\",\n",
    "    spin = 2,\n",
    "    verbose = 4\n",
    ")\n",
    "\n",
    "\n",
    "# omega = 0.5\n",
    "# mf = dft.RKS(mol)\n",
    "# mf._numint.libxc = dft.xcfun\n",
    "# mf.xc = f'ldaerf + lr_hf({omega})'\n",
    "# mf.omega = omega\n",
    "\n",
    "mf = scf.UHF(mol)\n",
    "mf.kernel()\n"
   ]
  },
  {
   "cell_type": "code",
   "execution_count": 4,
   "metadata": {},
   "outputs": [],
   "source": [
    "# density matrices\n",
    "dm1a,dm1b = mf.make_rdm1()\n",
    "dm2aa,dm2ab,dm2bb = mf.make_rdm2()\n",
    "# overlap\n",
    "S = mf.get_ovlp()"
   ]
  },
  {
   "cell_type": "code",
   "execution_count": 5,
   "metadata": {},
   "outputs": [
    {
     "data": {
      "text/plain": [
       "(2.1286099983509392, 3.0845485882708603)"
      ]
     },
     "execution_count": 5,
     "metadata": {},
     "output_type": "execute_result"
    }
   ],
   "source": [
    "fci.spin_op.spin_square_general(dm1a, dm1b, dm2aa, dm2ab, dm2bb, np.eye(mf.mo_coeff[0].shape[0]), S)"
   ]
  },
  {
   "cell_type": "code",
   "execution_count": 6,
   "metadata": {},
   "outputs": [],
   "source": [
    "s,U = np.linalg.eigh(S)\n",
    "X = U @ np.diag(1/np.sqrt(s)) @ U.T\n",
    "invX = U @ np.diag(np.sqrt(s)) @ U.T"
   ]
  },
  {
   "cell_type": "code",
   "execution_count": 7,
   "metadata": {},
   "outputs": [
    {
     "data": {
      "text/plain": [
       "(2.128609998350947, 3.0845485882708656)"
      ]
     },
     "execution_count": 7,
     "metadata": {},
     "output_type": "execute_result"
    }
   ],
   "source": [
    "fci.spin_op.spin_square_general(dm1a, dm1b, dm2aa, dm2ab, dm2bb, (invX,invX))"
   ]
  },
  {
   "cell_type": "code",
   "execution_count": 8,
   "metadata": {},
   "outputs": [],
   "source": [
    "C_a = mf.mo_coeff[0]\n",
    "C_b = mf.mo_coeff[1]\n",
    "SC_a = S@mf.mo_coeff[0]\n",
    "SC_b = S@mf.mo_coeff[1]\n",
    "Cp_a = np.linalg.inv(X) @ mf.mo_coeff[0]\n",
    "Cp_b = np.linalg.inv(X) @ mf.mo_coeff[1]"
   ]
  },
  {
   "cell_type": "code",
   "execution_count": 9,
   "metadata": {},
   "outputs": [],
   "source": [
    "dm1a_mo = np.einsum(\"pq,pa,qb->ab\", dm1a, SC_a, SC_a)\n",
    "dm1b_mo = np.einsum(\"pq,pa,qb->ab\", dm1b, SC_b, SC_b)\n",
    "dm2ab_mo = np.einsum(\"pqrs,pa,qb,rc,sd->abcd\", dm2ab, SC_a, SC_a, SC_b, SC_b)\n",
    "dm2aa_mo = np.einsum(\"pqrs,pa,qb,rc,sd->abcd\", dm2aa, SC_a, SC_a, SC_a, SC_a)\n",
    "dm2bb_mo = np.einsum(\"pqrs,pa,qb,rc,sd->abcd\", dm2bb, SC_b, SC_b, SC_b, SC_b)"
   ]
  },
  {
   "cell_type": "code",
   "execution_count": 10,
   "metadata": {},
   "outputs": [
    {
     "data": {
      "text/plain": [
       "(2.128609998350922, 3.084548588270849)"
      ]
     },
     "execution_count": 10,
     "metadata": {},
     "output_type": "execute_result"
    }
   ],
   "source": [
    "fci.spin_op.spin_square_general(dm1a_mo, dm1b_mo, dm2aa_mo, dm2ab_mo, dm2bb_mo, (C_a,C_b), S)"
   ]
  },
  {
   "cell_type": "code",
   "execution_count": 11,
   "metadata": {},
   "outputs": [
    {
     "data": {
      "text/plain": [
       "(2.12860999835092, 3.084548588270848)"
      ]
     },
     "execution_count": 11,
     "metadata": {},
     "output_type": "execute_result"
    }
   ],
   "source": [
    "fci.spin_op.spin_square_general(dm1a_mo, dm1b_mo, dm2aa_mo, dm2ab_mo, dm2bb_mo, (Cp_a,Cp_b))"
   ]
  },
  {
   "cell_type": "code",
   "execution_count": 12,
   "metadata": {},
   "outputs": [
    {
     "name": "stdout",
     "output_type": "stream",
     "text": [
      "davidson 0 1  |r|= 0.199  e= [-34.937]  max|de|= -34.9  lindep= 0.00463\n",
      "davidson 1 2  |r|= 0.0896  e= [-34.984]  max|de|= -0.0472  lindep= 0.531\n",
      "davidson 2 3  |r|= 0.0509  e= [-34.993]  max|de|= -0.00956  lindep= 0.735\n",
      "davidson 3 4  |r|= 0.0185  e= [-34.996]  max|de|= -0.00224  lindep= 0.892\n",
      "davidson 4 5  |r|= 0.00804  e= [-34.996]  max|de|= -0.000295  lindep= 0.92\n",
      "davidson 5 6  |r|= 0.00537  e= [-34.996]  max|de|= -9.43e-05  lindep= 0.885\n",
      "davidson 6 7  |r|= 0.00148  e= [-34.996]  max|de|= -1.93e-05  lindep= 0.896\n",
      "davidson 7 8  |r|= 0.000336  e= [-34.996]  max|de|= -1.42e-06  lindep= 0.944\n",
      "davidson 8 9  |r|= 7.64e-05  e= [-34.996]  max|de|= -6.42e-08  lindep= 0.94\n",
      "davidson 9 10  |r|= 2.33e-05  e= [-34.996]  max|de|= -2.27e-09  lindep= 0.687\n",
      "davidson 10 11  |r|= 6.2e-06  e= [-34.996]  max|de|= -3.25e-10  lindep= 0.816\n",
      "root 0 converged  |r|= 4.54e-06  e= -34.99597142886025  max|de|= -3.68e-11\n",
      "converged 11 12  |r|= 4.54e-06  e= [-34.996]  max|de|= -3.68e-11\n"
     ]
    }
   ],
   "source": [
    "myfci = fci.FCI(mf)\n",
    "myfci.verbose = 5\n",
    "E,CI = myfci.kernel()"
   ]
  },
  {
   "cell_type": "code",
   "execution_count": 13,
   "metadata": {},
   "outputs": [
    {
     "data": {
      "text/plain": [
       "(2.0000000000523257, 3.0000000000348837)"
      ]
     },
     "execution_count": 13,
     "metadata": {},
     "output_type": "execute_result"
    }
   ],
   "source": [
    "# the FCI wave function fixes the spin contamination from UHF\n",
    "fci.spin_op.spin_square(CI, 10, (5,3), mf.mo_coeff, ovlp=S)"
   ]
  },
  {
   "cell_type": "code",
   "execution_count": 16,
   "metadata": {},
   "outputs": [
    {
     "data": {
      "text/plain": [
       "(2.000000000052323, 3.000000000034882)"
      ]
     },
     "execution_count": 16,
     "metadata": {},
     "output_type": "execute_result"
    }
   ],
   "source": [
    "# we need to pass from cp2k to qiskit (Cp_a, Cp_b) to compute the correct spin square\n",
    "fci.spin_op.spin_square(CI, 10, (5,3), (Cp_a,Cp_b))"
   ]
  },
  {
   "cell_type": "code",
   "execution_count": 15,
   "metadata": {},
   "outputs": [
    {
     "data": {
      "text/plain": [
       "(2.216261475737743, 3.140867062285663)"
      ]
     },
     "execution_count": 15,
     "metadata": {},
     "output_type": "execute_result"
    }
   ],
   "source": [
    "# careful that pyscf does not do the right thing if spin_square is called from the fci object\n",
    "myfci.spin_square(CI, 10, (5,3))"
   ]
  },
  {
   "cell_type": "markdown",
   "metadata": {},
   "source": [
    "# Testing for RHF"
   ]
  },
  {
   "cell_type": "code",
   "execution_count": 33,
   "metadata": {},
   "outputs": [
    {
     "name": "stdout",
     "output_type": "stream",
     "text": [
      "\n",
      "\n",
      "******** <class 'pyscf.scf.hf.RHF'> ********\n",
      "method = RHF\n",
      "initial guess = minao\n",
      "damping factor = 0\n",
      "level_shift factor = 0\n",
      "DIIS = <class 'pyscf.scf.diis.CDIIS'>\n",
      "diis_start_cycle = 1\n",
      "diis_space = 8\n",
      "SCF conv_tol = 1e-09\n",
      "SCF conv_tol_grad = None\n",
      "SCF max_cycles = 50\n",
      "direct_scf = True\n",
      "direct_scf_tol = 1e-13\n",
      "chkfile to save SCF result = /home/stefano/Projects/embedding/periodic-embedding-data/test/tmp8emrq51t\n",
      "max_memory 4000 MB (current use 220 MB)\n",
      "Set gradient conv threshold to 3.16228e-05\n",
      "init E= -29.236868744872\n",
      "  HOMO = -0.0323059292961095  LUMO = 0.0176364828233575\n",
      "cycle= 1 E= -28.3975973537882  delta_E= 0.839  |g|= 0.101  |ddm|= 2.11\n",
      "  HOMO = -0.164485019415418  LUMO = 0.0343019819561644\n",
      "cycle= 2 E= -28.4086353015049  delta_E= -0.011  |g|= 0.0383  |ddm|= 0.276\n",
      "  HOMO = -0.148674896796845  LUMO = 0.0561029080098722\n",
      "cycle= 3 E= -28.4105416505723  delta_E= -0.00191  |g|= 0.00794  |ddm|= 0.134\n",
      "  HOMO = -0.145862107703947  LUMO = 0.0588092318823599\n",
      "cycle= 4 E= -28.4106039047415  delta_E= -6.23e-05  |g|= 0.000538  |ddm|= 0.0518\n",
      "  HOMO = -0.145793738386197  LUMO = 0.0587996842544241\n",
      "cycle= 5 E= -28.4106040544637  delta_E= -1.5e-07  |g|= 4.63e-05  |ddm|= 0.00563\n",
      "  HOMO = -0.145788941098752  LUMO = 0.05879615102893\n",
      "cycle= 6 E= -28.4106040555709  delta_E= -1.11e-09  |g|= 4.61e-07  |ddm|= 0.000529\n",
      "  HOMO = -0.145788911088474  LUMO = 0.0587961350030085\n",
      "cycle= 7 E= -28.4106040555709  delta_E= -2.84e-14  |g|= 6.25e-09  |ddm|= 1.02e-06\n",
      "  HOMO = -0.145788911059512  LUMO = 0.0587961353399865\n",
      "Extra cycle  E= -28.4106040555709  delta_E=    0  |g|= 2.54e-09  |ddm|= 1.81e-08\n",
      "converged SCF energy = -28.4106040555709\n"
     ]
    },
    {
     "data": {
      "text/plain": [
       "-28.410604055570907"
      ]
     },
     "execution_count": 33,
     "metadata": {},
     "output_type": "execute_result"
    }
   ],
   "source": [
    "mol.spin = 0\n",
    "mf = scf.RHF(mol)\n",
    "mf.kernel()"
   ]
  },
  {
   "cell_type": "code",
   "execution_count": 35,
   "metadata": {},
   "outputs": [],
   "source": [
    "# density matrices\n",
    "dm1 = mf.make_rdm1()\n",
    "dm2 = mf.make_rdm2()\n",
    "# overlap\n",
    "S = mf.get_ovlp()"
   ]
  },
  {
   "cell_type": "code",
   "execution_count": 39,
   "metadata": {},
   "outputs": [],
   "source": [
    "s,U = np.linalg.eigh(S)\n",
    "X = U @ np.diag(1/np.sqrt(s)) @ U.T\n",
    "invX = U @ np.diag(np.sqrt(s)) @ U.T"
   ]
  },
  {
   "cell_type": "code",
   "execution_count": 40,
   "metadata": {},
   "outputs": [],
   "source": [
    "C_a = mf.mo_coeff\n",
    "C_b = mf.mo_coeff\n",
    "SC_a = S@mf.mo_coeff\n",
    "SC_b = S@mf.mo_coeff\n",
    "Cp_a = np.linalg.inv(X) @ mf.mo_coeff\n",
    "Cp_b = np.linalg.inv(X) @ mf.mo_coeff"
   ]
  },
  {
   "cell_type": "code",
   "execution_count": 54,
   "metadata": {},
   "outputs": [],
   "source": [
    "dm1_mo = np.einsum(\"pq,pa,qb->ab\", dm1, SC_a, SC_a)\n",
    "dm1a_mo = 0.5*dm1_mo\n",
    "dm1b_mo = 0.5*dm1_mo\n",
    "dm2aa_mo = (np.einsum('ij,kl->ijkl', dm1a_mo, dm1a_mo)\n",
    "         - np.einsum('ij,kl->iklj', dm1a_mo, dm1a_mo))\n",
    "dm2bb_mo = (np.einsum('ij,kl->ijkl', dm1b_mo, dm1b_mo)\n",
    "         - np.einsum('ij,kl->iklj', dm1b_mo, dm1b_mo))\n",
    "dm2ab_mo = np.einsum('ij,kl->ijkl', dm1a_mo, dm1b_mo)"
   ]
  },
  {
   "cell_type": "code",
   "execution_count": 55,
   "metadata": {},
   "outputs": [
    {
     "data": {
      "text/plain": [
       "(5.773159728050814e-15, 1.0000000000000115)"
      ]
     },
     "execution_count": 55,
     "metadata": {},
     "output_type": "execute_result"
    }
   ],
   "source": [
    "fci.spin_op.spin_square_general(dm1a_mo, dm1b_mo, dm2aa_mo, dm2ab_mo, dm2bb_mo, (C_a,C_b), S)"
   ]
  },
  {
   "cell_type": "code",
   "execution_count": 56,
   "metadata": {},
   "outputs": [
    {
     "data": {
      "text/plain": [
       "(8.881784197001252e-16, 1.0000000000000018)"
      ]
     },
     "execution_count": 56,
     "metadata": {},
     "output_type": "execute_result"
    }
   ],
   "source": [
    "fci.spin_op.spin_square_general(dm1a_mo, dm1b_mo, dm2aa_mo, dm2ab_mo, dm2bb_mo, (Cp_a,Cp_b))"
   ]
  },
  {
   "cell_type": "code",
   "execution_count": 59,
   "metadata": {},
   "outputs": [
    {
     "name": "stdout",
     "output_type": "stream",
     "text": [
      "davidson 0 1  |r|= 0.206  e= [-34.931]  max|de|= -34.9  lindep= 0.402\n",
      "davidson 1 2  |r|= 0.195  e= [-34.951]  max|de|= -0.0199  lindep= 0.125\n",
      "davidson 2 3  |r|= 0.0659  e= [-34.989]  max|de|= -0.0383  lindep= 0.686\n",
      "davidson 3 4  |r|= 0.0375  e= [-34.995]  max|de|= -0.00543  lindep= 0.793\n",
      "davidson 4 5  |r|= 0.0142  e= [-34.996]  max|de|= -0.00113  lindep= 0.892\n",
      "davidson 5 6  |r|= 0.00415  e= [-34.996]  max|de|= -0.00013  lindep= 0.925\n",
      "davidson 6 7  |r|= 0.00131  e= [-34.996]  max|de|= -1.33e-05  lindep= 0.936\n",
      "davidson 7 8  |r|= 0.000544  e= [-34.996]  max|de|= -1.41e-06  lindep= 0.967\n",
      "davidson 8 9  |r|= 0.000201  e= [-34.996]  max|de|= -2.56e-07  lindep= 0.932\n",
      "davidson 9 10  |r|= 5.18e-05  e= [-34.996]  max|de|= -2.04e-08  lindep= 0.971\n",
      "davidson 10 11  |r|= 1.76e-05  e= [-34.996]  max|de|= -1.48e-09  lindep= 0.922\n",
      "davidson 11 12  |r|= 5.07e-06  e= [-34.996]  max|de|= -1.78e-10  lindep= 0.927\n",
      "root 0 converged  |r|= 5.07e-06  e= -34.995971428916285  max|de|= -1.42e-14\n",
      "converged 12 1  |r|= 5.07e-06  e= [-34.996]  max|de|= -1.42e-14\n"
     ]
    }
   ],
   "source": [
    "myfci = fci.FCI(mf)\n",
    "myfci.verbose = 5\n",
    "E,CI = myfci.kernel()"
   ]
  },
  {
   "cell_type": "code",
   "execution_count": 69,
   "metadata": {},
   "outputs": [],
   "source": [
    "def log_ci_states(fci_solver, uhf, thresh=1e-6):\n",
    "    norb = fci_solver.norb\n",
    "    nel_a, nel_b = fci_solver.nelec\n",
    "    occslst_a = fci.cistring._gen_occslst(range(norb), nel_a)\n",
    "    occslst_b = fci.cistring._gen_occslst(range(norb), nel_b)\n",
    "\n",
    "    for root in range(fci_solver.nroots):\n",
    "        if fci_solver.nroots == 1:\n",
    "            ci_vector = fci_solver.ci\n",
    "        else:\n",
    "            ci_vector = fci_solver.ci[root]\n",
    "\n",
    "        print(\n",
    "            f\"Logging CI vectors and coefficients > {thresh} for root number {root}:\"\n",
    "        )\n",
    "        # log S^2\n",
    "        if not uhf:\n",
    "            spin_square = fci_solver.spin_square(ci_vector, norb, (nel_a, nel_b))\n",
    "            print(\"This root has S^2 = %s\" % spin_square[0])\n",
    "        else:\n",
    "            print(\"Cannot compute S^2 for unrestricted spin right now... Stay tuned!\")\n",
    "\n",
    "        pad = 4 + norb\n",
    "        print(f'  {\"Conf\": <{pad}} CI coefficients')\n",
    "        for i, occsa in enumerate(occslst_a):\n",
    "            for j, occsb in enumerate(occslst_b):\n",
    "                if abs(ci_vector[i, j]) < thresh:\n",
    "                    continue\n",
    "                # generate the CI string and log it\n",
    "                occ = \"\"\n",
    "                for k in range(norb):\n",
    "                    if k in occsa and k in occsb:\n",
    "                        occ += \"2\"\n",
    "                    elif k in occsa and k not in occsb:\n",
    "                        occ += \"u\"\n",
    "                    elif k not in occsa and k in occsb:\n",
    "                        occ += \"d\"\n",
    "                    else:\n",
    "                        occ += \"0\"\n",
    "                print(\"  %s     %+.8f\" % (occ, ci_vector[i, j]))"
   ]
  },
  {
   "cell_type": "code",
   "execution_count": 83,
   "metadata": {},
   "outputs": [
    {
     "name": "stdout",
     "output_type": "stream",
     "text": [
      "Logging CI vectors and coefficients > 0.1 for root number 0:\n",
      "This root has S^2 = 1.9999999996460383\n",
      "  Conf           CI coefficients\n",
      "  2220ud0000     +0.66430835\n",
      "  2220du0000     -0.66430738\n"
     ]
    }
   ],
   "source": [
    "# Careful that the FCI might find states of different spin symmetry!\n",
    "log_ci_states(myfci, False, 0.1)"
   ]
  },
  {
   "cell_type": "code",
   "execution_count": 76,
   "metadata": {},
   "outputs": [
    {
     "data": {
      "text/plain": [
       "(1.999999999646045, 2.99999999976403)"
      ]
     },
     "execution_count": 76,
     "metadata": {},
     "output_type": "execute_result"
    }
   ],
   "source": [
    "fci.spin_op.spin_square(CI, 10, (4,4), mf.mo_coeff, ovlp=S)"
   ]
  },
  {
   "cell_type": "code",
   "execution_count": 80,
   "metadata": {},
   "outputs": [
    {
     "data": {
      "text/plain": [
       "(1.9999999996460405, 2.999999999764027)"
      ]
     },
     "execution_count": 80,
     "metadata": {},
     "output_type": "execute_result"
    }
   ],
   "source": [
    "# we need to pass from cp2k to qiskit (Cp_a, Cp_b) to compute the correct spin square, but for a RHF MOs we don't really need them, because the call below works fine\n",
    "fci.spin_op.spin_square(CI, 10, (4,4), (Cp_a,Cp_b))"
   ]
  },
  {
   "cell_type": "code",
   "execution_count": 79,
   "metadata": {},
   "outputs": [
    {
     "data": {
      "text/plain": [
       "(1.9999999996460383, 2.9999999997640256)"
      ]
     },
     "execution_count": 79,
     "metadata": {},
     "output_type": "execute_result"
    }
   ],
   "source": [
    "# pyscf does the right thing if spin_square is called from the fci object created with a RHF mean-field\n",
    "myfci.spin_square(CI, 10, (4,4))"
   ]
  },
  {
   "cell_type": "markdown",
   "metadata": {},
   "source": [
    "# Check that the alpha-beta MO orbital overlap is the same in CP2K and pyscf\n",
    "\n",
    "This calculation below gives roughly the same as a corresponding calculation in CP2K. I am a bit puzzled by the sign, especially in the diagonal. In CP2K we get a different sign only on a single element of the diagonal, I am not sure whether this is problematic."
   ]
  },
  {
   "cell_type": "code",
   "execution_count": 15,
   "metadata": {},
   "outputs": [
    {
     "name": "stdout",
     "output_type": "stream",
     "text": [
      "converged SCF energy = -90.9967795701639  <S^2> = 0.98704588  2S+1 = 2.2244513\n"
     ]
    }
   ],
   "source": [
    "R = 1.1\n",
    "\n",
    "mol = gto.M(\n",
    "    atom = f'C 0.0 0.0 0.0; \\\n",
    "             N 0.0 0.0 {R};',\n",
    "    basis='sto-3g',\n",
    "    spin=1,\n",
    "    charge=0,\n",
    "    verbose=3\n",
    ")\n",
    "\n",
    "# omega = 0.5\n",
    "# mf_o2 = dft.UKS(mol)\n",
    "# mf_o2._numint.libxc = dft.xcfun\n",
    "# mf_o2.xc = f'ldaerf + lr_hf({omega})'\n",
    "# mf_o2.omega = omega\n",
    "# mf_o2.kernel()\n",
    "\n",
    "mf = scf.UHF(mol)\n",
    "mf.kernel()\n",
    "\n",
    "tools.molden.dump_scf(mf, 'cn.molden')"
   ]
  },
  {
   "cell_type": "code",
   "execution_count": 21,
   "metadata": {},
   "outputs": [],
   "source": [
    "S = mf.get_ovlp()\n",
    "Ca = mf.mo_coeff[0][:, 6:9]\n",
    "Cb = mf.mo_coeff[1][:, 6:9]"
   ]
  },
  {
   "cell_type": "code",
   "execution_count": 25,
   "metadata": {},
   "outputs": [
    {
     "data": {
      "text/plain": [
       "array([[ 0.534, -0.   ,  0.   ],\n",
       "       [-0.   , -0.919, -0.193],\n",
       "       [-0.   ,  0.193, -0.919]])"
      ]
     },
     "execution_count": 25,
     "metadata": {},
     "output_type": "execute_result"
    }
   ],
   "source": [
    "Ca.transpose().dot(S).dot(Cb)"
   ]
  }
 ],
 "metadata": {
  "kernelspec": {
   "display_name": "qiskit",
   "language": "python",
   "name": "python3"
  },
  "language_info": {
   "codemirror_mode": {
    "name": "ipython",
    "version": 3
   },
   "file_extension": ".py",
   "mimetype": "text/x-python",
   "name": "python",
   "nbconvert_exporter": "python",
   "pygments_lexer": "ipython3",
   "version": "3.10.10"
  }
 },
 "nbformat": 4,
 "nbformat_minor": 2
}
