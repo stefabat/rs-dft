{
 "cells": [
  {
   "cell_type": "code",
   "execution_count": null,
   "metadata": {},
   "outputs": [],
   "source": [
    "from pyscf import gto, scf, dft, fci, mcscf\n",
    "import numpy as np\n",
    "np.set_printoptions(precision=6, suppress=True, linewidth=200)"
   ]
  },
  {
   "attachments": {},
   "cell_type": "markdown",
   "metadata": {},
   "source": [
    "### Test functionals\n",
    "\n",
    "In cp2k we do not have the LDAERF functional, so we need to construct it with a weird combination of other functionals. Because we do this with libxc, and pyscf also has libxc, we can test directly in pyscf that the combination of functionals used by cp2k does actually corresponds to LDAERF (that in pyscf is available with the xcfun library)."
   ]
  },
  {
   "attachments": {},
   "cell_type": "markdown",
   "metadata": {},
   "source": [
    "### XCFUN"
   ]
  },
  {
   "cell_type": "code",
   "execution_count": null,
   "metadata": {},
   "outputs": [
    {
     "ename": "NameError",
     "evalue": "name 'gto' is not defined",
     "output_type": "error",
     "traceback": [
      "\u001b[0;31m---------------------------------------------------------------------------\u001b[0m\n",
      "\u001b[0;31mNameError\u001b[0m                                 Traceback (most recent call last)\n",
      "\u001b[1;32m/home/stefano/Projects/embedding/periodic-embedding-data/test/various.ipynb Cell 4\u001b[0m in \u001b[0;36m3\n",
      "\u001b[1;32m      <a href='vscode-notebook-cell:/home/stefano/Projects/embedding/periodic-embedding-data/test/various.ipynb#W3sZmlsZQ%3D%3D?line=0'>1</a>\u001b[0m omega \u001b[39m=\u001b[39m \u001b[39m0.5\u001b[39m\n",
      "\u001b[0;32m----> <a href='vscode-notebook-cell:/home/stefano/Projects/embedding/periodic-embedding-data/test/various.ipynb#W3sZmlsZQ%3D%3D?line=2'>3</a>\u001b[0m mol \u001b[39m=\u001b[39m gto\u001b[39m.\u001b[39mM(\n",
      "\u001b[1;32m      <a href='vscode-notebook-cell:/home/stefano/Projects/embedding/periodic-embedding-data/test/various.ipynb#W3sZmlsZQ%3D%3D?line=3'>4</a>\u001b[0m     atom \u001b[39m=\u001b[39m \u001b[39m'\u001b[39m\u001b[39mC  0.0      0.0      0.66242; \u001b[39m\u001b[39m\\\u001b[39;00m\n",
      "\u001b[1;32m      <a href='vscode-notebook-cell:/home/stefano/Projects/embedding/periodic-embedding-data/test/various.ipynb#W3sZmlsZQ%3D%3D?line=4'>5</a>\u001b[0m \u001b[39m            C  0.0      0.0     -0.66242; \u001b[39m\u001b[39m\\\u001b[39;00m\n",
      "\u001b[1;32m      <a href='vscode-notebook-cell:/home/stefano/Projects/embedding/periodic-embedding-data/test/various.ipynb#W3sZmlsZQ%3D%3D?line=5'>6</a>\u001b[0m \u001b[39m            H -0.12018  0.91284  1.23164; \u001b[39m\u001b[39m\\\u001b[39;00m\n",
      "\u001b[1;32m      <a href='vscode-notebook-cell:/home/stefano/Projects/embedding/periodic-embedding-data/test/various.ipynb#W3sZmlsZQ%3D%3D?line=6'>7</a>\u001b[0m \u001b[39m            H  0.12018 -0.91284  1.23164; \u001b[39m\u001b[39m\\\u001b[39;00m\n",
      "\u001b[1;32m      <a href='vscode-notebook-cell:/home/stefano/Projects/embedding/periodic-embedding-data/test/various.ipynb#W3sZmlsZQ%3D%3D?line=7'>8</a>\u001b[0m \u001b[39m            H  0.12018  0.91284 -1.23164; \u001b[39m\u001b[39m\\\u001b[39;00m\n",
      "\u001b[1;32m      <a href='vscode-notebook-cell:/home/stefano/Projects/embedding/periodic-embedding-data/test/various.ipynb#W3sZmlsZQ%3D%3D?line=8'>9</a>\u001b[0m \u001b[39m            H -0.12018 -0.91284 -1.23164;\u001b[39m\u001b[39m'\u001b[39m,\n",
      "\u001b[1;32m     <a href='vscode-notebook-cell:/home/stefano/Projects/embedding/periodic-embedding-data/test/various.ipynb#W3sZmlsZQ%3D%3D?line=9'>10</a>\u001b[0m     basis\u001b[39m=\u001b[39m\u001b[39m\"\u001b[39m\u001b[39msto3g\u001b[39m\u001b[39m\"\u001b[39m,\n",
      "\u001b[1;32m     <a href='vscode-notebook-cell:/home/stefano/Projects/embedding/periodic-embedding-data/test/various.ipynb#W3sZmlsZQ%3D%3D?line=10'>11</a>\u001b[0m     verbose\u001b[39m=\u001b[39m\u001b[39m4\u001b[39m,\n",
      "\u001b[1;32m     <a href='vscode-notebook-cell:/home/stefano/Projects/embedding/periodic-embedding-data/test/various.ipynb#W3sZmlsZQ%3D%3D?line=11'>12</a>\u001b[0m )\n",
      "\u001b[1;32m     <a href='vscode-notebook-cell:/home/stefano/Projects/embedding/periodic-embedding-data/test/various.ipynb#W3sZmlsZQ%3D%3D?line=13'>14</a>\u001b[0m mf_xcfun \u001b[39m=\u001b[39m dft\u001b[39m.\u001b[39mRKS(mol)\n",
      "\u001b[1;32m     <a href='vscode-notebook-cell:/home/stefano/Projects/embedding/periodic-embedding-data/test/various.ipynb#W3sZmlsZQ%3D%3D?line=14'>15</a>\u001b[0m mf_xcfun\u001b[39m.\u001b[39mchkfile \u001b[39m=\u001b[39m \u001b[39mNone\u001b[39;00m\n",
      "\n",
      "\u001b[0;31mNameError\u001b[0m: name 'gto' is not defined"
     ]
    }
   ],
   "source": [
    "omega = 0.5\n",
    "\n",
    "mol = gto.M(\n",
    "    atom = 'C  0.0      0.0      0.66242; \\\n",
    "            C  0.0      0.0     -0.66242; \\\n",
    "            H -0.12018  0.91284  1.23164; \\\n",
    "            H  0.12018 -0.91284  1.23164; \\\n",
    "            H  0.12018  0.91284 -1.23164; \\\n",
    "            H -0.12018 -0.91284 -1.23164;',\n",
    "    basis=\"sto3g\",\n",
    "    verbose=4,\n",
    ")\n",
    "\n",
    "mf_xcfun = dft.RKS(mol)\n",
    "mf_xcfun.chkfile = None\n",
    "mf_xcfun._numint.libxc = dft.xcfun\n",
    "mf_xcfun.xc = 'LDAERF + LR_HF(0.5)'"
   ]
  },
  {
   "cell_type": "code",
   "execution_count": null,
   "metadata": {},
   "outputs": [
    {
     "ename": "NameError",
     "evalue": "name 'mf_xcfun' is not defined",
     "output_type": "error",
     "traceback": [
      "\u001b[0;31m---------------------------------------------------------------------------\u001b[0m\n",
      "\u001b[0;31mNameError\u001b[0m                                 Traceback (most recent call last)\n",
      "\u001b[1;32m/home/stefano/Projects/embedding/periodic-embedding-data/test/various.ipynb Cell 5\u001b[0m in \u001b[0;36m1\n",
      "\u001b[0;32m----> <a href='vscode-notebook-cell:/home/stefano/Projects/embedding/periodic-embedding-data/test/various.ipynb#W4sZmlsZQ%3D%3D?line=0'>1</a>\u001b[0m mf_xcfun\u001b[39m.\u001b[39mkernel()\n",
      "\n",
      "\u001b[0;31mNameError\u001b[0m: name 'mf_xcfun' is not defined"
     ]
    }
   ],
   "source": [
    "mf_xcfun.kernel()"
   ]
  },
  {
   "attachments": {},
   "cell_type": "markdown",
   "metadata": {},
   "source": [
    "### LibXC\n",
    "\n",
    "Unfortunately this does not work. I don't know why, but apparently LDA_ERF is not supported in pyscf through libxc."
   ]
  },
  {
   "cell_type": "code",
   "execution_count": null,
   "metadata": {},
   "outputs": [
    {
     "name": "stderr",
     "output_type": "stream",
     "text": [
      "Exception ignored in: <function _TemporaryFileCloser.__del__ at 0x7ffb3b8956c0>\n",
      "Traceback (most recent call last):\n",
      "  File \"/home/stefano/Miniconda/envs/qiskit/lib/python3.10/tempfile.py\", line 450, in __del__\n",
      "    self.close()\n",
      "  File \"/home/stefano/Miniconda/envs/qiskit/lib/python3.10/tempfile.py\", line 446, in close\n",
      "    unlink(self.name)\n",
      "FileNotFoundError: [Errno 2] No such file or directory: '/home/stefano/Projects/embedding/periodic-embedding-data/test/tmpw2d8ne39'\n"
     ]
    }
   ],
   "source": [
    "mf_libxc = dft.rks.RKS(mol)\n",
    "# this is how we define the functional in cp2k\n",
    "mf_libxc.xc = 'LDA_X_ERF + LR_HF(0.5) - 1.0*LDA_C_PMGB06 + LDA_C_PW'\n",
    "mf_libxc.chkfile = None"
   ]
  },
  {
   "cell_type": "code",
   "execution_count": null,
   "metadata": {},
   "outputs": [],
   "source": [
    "mf_libxc.kernel()"
   ]
  }
 ],
 "metadata": {
  "language_info": {
   "name": "python"
  },
  "orig_nbformat": 4
 },
 "nbformat": 4,
 "nbformat_minor": 2
}
